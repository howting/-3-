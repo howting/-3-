{
 "cells": [
  {
   "cell_type": "code",
   "execution_count": 13,
   "metadata": {},
   "outputs": [],
   "source": [
    "import cv2\n",
    "import numpy as np\n",
    "import os\n",
    "from PIL import Image\n",
    "import pandas as pd"
   ]
  },
  {
   "cell_type": "code",
   "execution_count": 14,
   "metadata": {},
   "outputs": [],
   "source": [
    "fp = open('train.txt',\"r\")\n",
    "test = pd.read_csv(\"submission_example.csv\")\n",
    "X = []\n",
    "y = []\n",
    "X_test = []\n",
    "y_test = []\n",
    "X_face = []\n",
    "X_face_test = []"
   ]
  },
  {
   "cell_type": "code",
   "execution_count": 15,
   "metadata": {},
   "outputs": [],
   "source": [
    "for line in iter(fp):\n",
    "    X_tmp,y_tmp = [i for i in line.split()]\n",
    "    X.append(X_tmp)\n",
    "    y.append(y_tmp)\n",
    "fp.close()"
   ]
  },
  {
   "cell_type": "code",
   "execution_count": 16,
   "metadata": {},
   "outputs": [],
   "source": [
    "X_test = np.array(test['Id'])"
   ]
  },
  {
   "cell_type": "code",
   "execution_count": 17,
   "metadata": {},
   "outputs": [],
   "source": [
    "def facecrop(image):\n",
    "    global faceNp\n",
    "    facedata = 'haarcascade_frontalface_default.xml'\n",
    "    cascade = cv2.CascadeClassifier(facedata)\n",
    "\n",
    "    img = cv2.imread(image)\n",
    "    minisize = (img.shape[1],img.shape[0])\n",
    "    miniframe = cv2.resize(img, minisize)\n",
    "\n",
    "    faces = cascade.detectMultiScale(miniframe)\n",
    "\n",
    "    for f in faces:\n",
    "        x, y, w, h = [ v for v in f ]\n",
    "        cv2.rectangle(img, (x,y), (x+w,y+h), (255,255,255))\n",
    "\n",
    "        sub_face = img[y:y+h, x:x+w]\n",
    "\n",
    "        #converts img array into grayscale\n",
    "        gray_image = cv2.cvtColor(sub_face, cv2.COLOR_BGR2GRAY)\n",
    "        # Converts np array back into image\n",
    "        img = Image.fromarray(gray_image)\n",
    "        # re-sizing to common dimension\n",
    "        img = img.resize((250,250), Image.ANTIALIAS)\n",
    "        #img.save('cropped.jpg')\n",
    "        faceNp = np.array(img)\n",
    "        faceNp = faceNp.flatten()\n",
    "    return faceNp"
   ]
  },
  {
   "cell_type": "code",
   "execution_count": 18,
   "metadata": {
    "scrolled": true
   },
   "outputs": [],
   "source": [
    "try:\n",
    "    for index in range(len(X)):\n",
    "        X_face.append(facecrop(X[index]))\n",
    "except:\n",
    "    print(index)"
   ]
  },
  {
   "cell_type": "code",
   "execution_count": 19,
   "metadata": {},
   "outputs": [],
   "source": [
    "try:\n",
    "    for index_test in range(len(X_test)):\n",
    "        X_face_test.append(facecrop(X_test[index_test]))\n",
    "except:\n",
    "    print(index_test)"
   ]
  },
  {
   "cell_type": "code",
   "execution_count": 20,
   "metadata": {},
   "outputs": [],
   "source": [
    "import numpy as np\n",
    "from sklearn.model_selection import train_test_split\n",
    "from sklearn.svm import SVC\n",
    "        \n",
    "X_train, X_test, y_train, y_test = train_test_split(X_face, y, test_size=0.2, random_state=0,stratify = y)"
   ]
  },
  {
   "cell_type": "code",
   "execution_count": 21,
   "metadata": {},
   "outputs": [
    {
     "data": {
      "text/plain": [
       "SVC(C=1.0, cache_size=200, class_weight=None, coef0=0.0,\n",
       "  decision_function_shape='ovr', degree=3, gamma='auto_deprecated',\n",
       "  kernel='linear', max_iter=-1, probability=False, random_state=None,\n",
       "  shrinking=True, tol=0.001, verbose=False)"
      ]
     },
     "execution_count": 21,
     "metadata": {},
     "output_type": "execute_result"
    }
   ],
   "source": [
    "svclassifier = SVC(kernel='linear',probability = False)\n",
    "svclassifier.fit(X_train, y_train)"
   ]
  },
  {
   "cell_type": "code",
   "execution_count": 22,
   "metadata": {},
   "outputs": [],
   "source": [
    "y_pred = svclassifier.predict(X_face_test)"
   ]
  },
  {
   "cell_type": "code",
   "execution_count": 23,
   "metadata": {
    "scrolled": true
   },
   "outputs": [
    {
     "data": {
      "text/plain": [
       "array(['8', '8', '30', '50', '50', '63', '68', '21', '86', '25', '25',\n",
       "       '8', '15', '14', '85', '81', '81', '5', '54', '42', '14', '58',\n",
       "       '11', '41', '59', '14', '24', '51', '0', '42', '35', '35', '29',\n",
       "       '6', '75', '57', '57', '57', '57', '46', '46', '73', '75', '73',\n",
       "       '1', '15', '31', '72', '25', '25', '79', '79', '85', '53', '82',\n",
       "       '30', '30', '7', '12', '12', '13', '80', '62', '84', '37', '13',\n",
       "       '33', '99', '30', '63', '65', '39', '5', '34', '34', '56', '23',\n",
       "       '39', '39', '98', '17', '67', '63', '63', '2', '2', '2', '2', '85',\n",
       "       '43', '30', '99', '10', '12', '12', '12', '60', '95'], dtype='<U2')"
      ]
     },
     "execution_count": 23,
     "metadata": {},
     "output_type": "execute_result"
    }
   ],
   "source": [
    "y_pred"
   ]
  },
  {
   "cell_type": "code",
   "execution_count": 24,
   "metadata": {},
   "outputs": [],
   "source": [
    "df = pd.DataFrame(data=y_pred)\n",
    "df.to_csv('F.csv')"
   ]
  }
 ],
 "metadata": {
  "kernelspec": {
   "display_name": "Python 3",
   "language": "python",
   "name": "python3"
  },
  "language_info": {
   "codemirror_mode": {
    "name": "ipython",
    "version": 3
   },
   "file_extension": ".py",
   "mimetype": "text/x-python",
   "name": "python",
   "nbconvert_exporter": "python",
   "pygments_lexer": "ipython3",
   "version": "3.5.6"
  }
 },
 "nbformat": 4,
 "nbformat_minor": 2
}
